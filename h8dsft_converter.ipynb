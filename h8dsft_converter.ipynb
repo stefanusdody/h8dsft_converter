{
 "cells": [
  {
   "cell_type": "markdown",
   "id": "91b293b8",
   "metadata": {},
   "source": [
    "### Function mengkonversi suhu dari Kelvin ke Celcius"
   ]
  },
  {
   "cell_type": "code",
   "execution_count": 1,
   "id": "170118ae",
   "metadata": {},
   "outputs": [
    {
     "name": "stdout",
     "output_type": "stream",
     "text": [
      "-73.14999999999998 Celcius\n"
     ]
    }
   ],
   "source": [
    "# kelvin to celcius function definition\n",
    "def kelvinConvert(x):\n",
    "    \"\"\"\n",
    "    mengubah suhu kelvin ke suhu celcius\n",
    "    \"\"\"\n",
    "    convert = x - 273.15\n",
    "    print(convert, 'Celcius')\n",
    "    return;\n",
    "    \n",
    "# Call kelvinConvert function\n",
    "kelvinConvert(200)"
   ]
  },
  {
   "cell_type": "markdown",
   "id": "6fd38d05",
   "metadata": {},
   "source": [
    "### Function mengkonversi suhu dari Celcius ke Kelvin"
   ]
  },
  {
   "cell_type": "code",
   "execution_count": 2,
   "id": "862cdea8",
   "metadata": {},
   "outputs": [
    {
     "name": "stdout",
     "output_type": "stream",
     "text": [
      "303.15 Kelvin\n"
     ]
    }
   ],
   "source": [
    "# Celcius to kelvin Function definition\n",
    "def celciusConvert(x):\n",
    "    \"\"\"\n",
    "    mengubah suhu celcius ke suhu kelvin\n",
    "    \"\"\"\n",
    "    convert =  x + 273.15\n",
    "    print(convert, 'Kelvin')\n",
    "    return\n",
    "\n",
    "# Call celciusConvert function\n",
    "celciusConvert(30)"
   ]
  },
  {
   "cell_type": "markdown",
   "id": "4e734797",
   "metadata": {},
   "source": [
    "### Function mengkonversi suhu ke Fahrenheit"
   ]
  },
  {
   "cell_type": "code",
   "execution_count": 3,
   "id": "24d2b9eb",
   "metadata": {},
   "outputs": [],
   "source": [
    "# convert to fahrenheit function definition\n",
    "def convertToFahrenheit(suhu , derajat):\n",
    "    \"\"\"\n",
    "    mengubah suhu dengan mengecek condition terlebih dahulu\n",
    "    \"\"\"\n",
    "    if suhu == 'celcius': # kondisi mengubah suhu dari celcius menjadi fahrenheit \n",
    "        print(derajat + 32.80, \"Fahrenheit\") \n",
    "    elif suhu == 'kelvin': # kondisi mengubah suhu dari kelvin menjadi fahrenheit\n",
    "        print(derajat - 458.87, \"Fahrenheit\")\n",
    "    else:\n",
    "        print('Please Insert Celcius or Kelvin') # kondisi mengubah suhu selain kelvin dan celcius menjadi fahrenheit\n",
    "    return"
   ]
  },
  {
   "cell_type": "code",
   "execution_count": 4,
   "id": "8b862efe",
   "metadata": {},
   "outputs": [
    {
     "name": "stdout",
     "output_type": "stream",
     "text": [
      "-457.87 Fahrenheit\n"
     ]
    }
   ],
   "source": [
    "# call convertToFahrenheit function dengan parameter suhu kelvin\n",
    "convertToFahrenheit('kelvin', 1)"
   ]
  },
  {
   "cell_type": "code",
   "execution_count": 5,
   "id": "b33b9541",
   "metadata": {},
   "outputs": [
    {
     "name": "stdout",
     "output_type": "stream",
     "text": [
      "33.8 Fahrenheit\n"
     ]
    }
   ],
   "source": [
    "# call convertfahrenheit function dengan parameter suhu celcius\n",
    "convertToFahrenheit('celcius', 1)"
   ]
  },
  {
   "cell_type": "code",
   "execution_count": 6,
   "id": "f54b38d6",
   "metadata": {},
   "outputs": [
    {
     "name": "stdout",
     "output_type": "stream",
     "text": [
      "Please Insert Celcius or Kelvin\n"
     ]
    }
   ],
   "source": [
    "# call fromfahrenheit function dengan parameter selain suhu kelvin dan celcius\n",
    "convertToFahrenheit('derajat', 1)"
   ]
  },
  {
   "cell_type": "markdown",
   "id": "731386b3",
   "metadata": {},
   "source": [
    "### Function mengkonversi suhu dari Fahrenheit"
   ]
  },
  {
   "cell_type": "code",
   "execution_count": 7,
   "id": "874a6cde",
   "metadata": {},
   "outputs": [],
   "source": [
    "# convert fromFahrenheit function definition dengan dua parameter\n",
    "def fromFahrenheit(suhu , derajat):\n",
    "    \"\"\"\n",
    "    mengubah suhu dengan mengecek condition terlebih dahulu\n",
    "    \"\"\"\n",
    "    if suhu == 'celcius': # kondisi mengubah suhu dari fahrenheit menjadi celcius\n",
    "        print(derajat - 18.22, \"Celcius\") \n",
    "    elif suhu == 'kelvin': # kondisi mengubah suhu dari fahrenheit menjadi kelvin\n",
    "        print(derajat + 254.92, \"Kelvin\")\n",
    "    else:\n",
    "        print('Please Insert Celcius or Kelvin') # kondisi mengubah suhu dari fahrenheit selain kelvin dan celcius\n",
    "    return"
   ]
  },
  {
   "cell_type": "code",
   "execution_count": 8,
   "id": "90a81e16",
   "metadata": {},
   "outputs": [
    {
     "name": "stdout",
     "output_type": "stream",
     "text": [
      "255.92 Kelvin\n"
     ]
    }
   ],
   "source": [
    "# call fromFahrenheit function dengan parameter suhu kelvin\n",
    "fromFahrenheit('kelvin', 1)"
   ]
  },
  {
   "cell_type": "code",
   "execution_count": 9,
   "id": "6d4c5335",
   "metadata": {},
   "outputs": [
    {
     "name": "stdout",
     "output_type": "stream",
     "text": [
      "-17.22 Celcius\n"
     ]
    }
   ],
   "source": [
    "# call fromFahrenheit function dengan parameter suhu celcius\n",
    "fromFahrenheit('celcius', 1)"
   ]
  },
  {
   "cell_type": "code",
   "execution_count": 10,
   "id": "29d5668d",
   "metadata": {},
   "outputs": [
    {
     "name": "stdout",
     "output_type": "stream",
     "text": [
      "Please Insert Celcius or Kelvin\n"
     ]
    }
   ],
   "source": [
    "# call fromFahrenheit function dengan parameter selain suhu kelvin dan celcius\n",
    "fromFahrenheit('derajat', 1)"
   ]
  }
 ],
 "metadata": {
  "kernelspec": {
   "display_name": "Python 3",
   "language": "python",
   "name": "python3"
  },
  "language_info": {
   "codemirror_mode": {
    "name": "ipython",
    "version": 3
   },
   "file_extension": ".py",
   "mimetype": "text/x-python",
   "name": "python",
   "nbconvert_exporter": "python",
   "pygments_lexer": "ipython3",
   "version": "3.8.5"
  }
 },
 "nbformat": 4,
 "nbformat_minor": 5
}
